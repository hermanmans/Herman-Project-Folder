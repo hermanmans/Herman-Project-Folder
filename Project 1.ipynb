{
 "cells": [
  {
   "cell_type": "code",
   "execution_count": 1,
   "metadata": {},
   "outputs": [],
   "source": [
    "#Welcome\n",
    "#Player 1 and Player 2\n",
    "#Choose X or O\n",
    "#Display Board\n",
    "#Player 1 Input\n",
    "#Update Board display\n",
    "#Player 2 Input\n",
    "#Update Board display\n",
    "#Winner (3 across or 3 diagonal)\n",
    "#Play again?"
   ]
  },
  {
   "cell_type": "code",
   "execution_count": 2,
   "metadata": {},
   "outputs": [],
   "source": [
    "\n",
    "game_board = ['#','1','2','3','4','5','6','7','8','9']\n"
   ]
  },
  {
   "cell_type": "code",
   "execution_count": 3,
   "metadata": {},
   "outputs": [],
   "source": [
    "def start_player1():\n",
    "    #Welcome Message and Player 2 Auto-select\n",
    "    print('Welcome to Tic-Tac-Toe!!')\n",
    "    #Player 1 Choice\n",
    "    player1_marker = 'wrong'\n",
    "    while player1_marker not in ['X','O']:\n",
    "        player1_marker = input('Player 1 please select your marker, X or O ')\n",
    "        \n",
    "        if player1_marker not in ['X','O']:\n",
    "            player1_marker = input('Invalid entry please select X or O')\n",
    "                    \n",
    "    return player1_marker"
   ]
  },
  {
   "cell_type": "code",
   "execution_count": 4,
   "metadata": {},
   "outputs": [],
   "source": [
    "def start_player2():\n",
    "\n",
    "    if player_1 == 'X':\n",
    "        player_2 = 'O'\n",
    "    else:\n",
    "        player_2 = 'X'\n",
    "    print('Player 2 your marker is {}'.format(player_2))\n",
    "    return player_2"
   ]
  },
  {
   "cell_type": "code",
   "execution_count": 5,
   "metadata": {},
   "outputs": [],
   "source": [
    "def display_board():\n",
    "    display = game_board\n",
    "    # This is the back-end game board\\n {}'.format(display))\n",
    "    return game_board\n"
   ]
  },
  {
   "cell_type": "code",
   "execution_count": 6,
   "metadata": {},
   "outputs": [],
   "source": [
    "def player1_select():\n",
    "    select_1 = 'Wrong'\n",
    "    acceptable_range = range(1,10)\n",
    "    within_range = False\n",
    "    \n",
    "    while select_1.isdigit() == False or within_range == False:\n",
    "        select_1 =input('Player 1,please select a number in the grid (1-9)\\n')\n",
    "        \n",
    "        if select_1.isdigit() == False:\n",
    "            select_1 =input('That is not a valid digit')\n",
    "            \n",
    "        if select_1.isdigit() == True:\n",
    "            if int(select_1) in acceptable_range:\n",
    "                within_range = True\n",
    "            else:\n",
    "                within_range = False\n",
    "            \n",
    "    return int(select_1)"
   ]
  },
  {
   "cell_type": "code",
   "execution_count": 7,
   "metadata": {},
   "outputs": [],
   "source": [
    "def player2_select():\n",
    "    select_2 = 'Wrong'\n",
    "    acceptable_range = range(1,10)\n",
    "    within_range = False\n",
    "    \n",
    "    while select_2.isdigit() == False or within_range == False:\n",
    "        select_2 =input('\\n Player 2,please select a number in the grid (1-9)')\n",
    "        \n",
    "        if select_2.isdigit() == False:\n",
    "            select_2 =input('That is not a valid digit')\n",
    "            \n",
    "        if select_2.isdigit() == True:\n",
    "            if int(select_2) in acceptable_range:\n",
    "                within_range = True\n",
    "            else:\n",
    "                within_range = False\n",
    "            \n",
    "    return int(select_2)"
   ]
  },
  {
   "cell_type": "code",
   "execution_count": 8,
   "metadata": {},
   "outputs": [],
   "source": [
    "def update_display1(game_board):\n",
    "    game_board[select_1] = player_1\n",
    "    print(game_board[1:4])\n",
    "    print(game_board[4:7])\n",
    "    print(game_board[7:10])\n",
    "    return game_board"
   ]
  },
  {
   "cell_type": "code",
   "execution_count": 9,
   "metadata": {},
   "outputs": [],
   "source": [
    "def open_display():\n",
    "    print ('This is your game board.')\n",
    "    print(game_board[1:4])\n",
    "    print(game_board[4:7])\n",
    "    print(game_board[7:10])\n",
    "    print('\\n')"
   ]
  },
  {
   "cell_type": "code",
   "execution_count": 10,
   "metadata": {},
   "outputs": [],
   "source": [
    "def update_display2(game_board):\n",
    "    game_board[select_2] = player_2\n",
    "    print(game_board[1:4])\n",
    "    print(game_board[4:7])\n",
    "    print(game_board[7:10])  \n",
    "    return game_board"
   ]
  },
  {
   "cell_type": "code",
   "execution_count": 11,
   "metadata": {},
   "outputs": [],
   "source": [
    "def game_checkX(game_board):\n",
    "    #Horizontal Lines\n",
    "    if game_board[1] == 'X' and game_board[2] == 'X' and game_board[3] == 'X':\n",
    "        return True\n",
    "    \n",
    "    if game_board[4] == 'X' and game_board[5] == 'X' and game_board[6] == 'X':\n",
    "        return True\n",
    "            \n",
    "    if game_board[7] == 'X' and game_board[8] == 'X' and game_board[9] == 'X':\n",
    "        return True\n",
    "        \n",
    "    #Vertical Lines    \n",
    "    if game_board[1] == 'X' and game_board[4] == 'X' and game_board[7] == 'X':\n",
    "        return True\n",
    "\n",
    "    if game_board[2] == 'X' and game_board[5] == 'X' and game_board[8] == 'X':\n",
    "        return True\n",
    "\n",
    "    if game_board[3] == 'X' and game_board[6] == 'X' and game_board[9] == 'X':\n",
    "        return True\n",
    "\n",
    "    #Diagonal Lines   \n",
    "    if game_board[3] == 'X' and game_board[5] == 'X' and game_board[7] == 'X':\n",
    "        return True\n",
    " \n",
    "    if game_board[1] == 'X' and game_board[5] == 'X' and game_board[9] == 'X':\n",
    "        return True\n",
    "        \n",
    "    else:\n",
    "        return False"
   ]
  },
  {
   "cell_type": "code",
   "execution_count": 12,
   "metadata": {},
   "outputs": [],
   "source": [
    "def game_checkO(game_board):\n",
    "    #Horizontal Lines\n",
    "    if game_board[1] == 'O' and game_board[2] == 'O' and game_board[3] == 'O':\n",
    "        return True\n",
    "    \n",
    "    if game_board[4] == 'O' and game_board[5] == 'O' and game_board[6] == 'O':\n",
    "        return True\n",
    "\n",
    "    if game_board[7] == 'O' and game_board[8] == 'O' and game_board[9] == 'O':\n",
    "        return True\n",
    "\n",
    "        \n",
    "    #Vertical Lines    \n",
    "    if game_board[1] == 'O' and game_board[4] == 'O' and game_board[7] == 'O':\n",
    "        return True\n",
    "  \n",
    "    if game_board[2] == 'O' and game_board[5] == 'O' and game_board[8] == 'O':\n",
    "        return True\n",
    "\n",
    "    if game_board[3] == 'O' and game_board[6] == 'O' and game_board[9] == 'O':\n",
    "        return True\n",
    "   \n",
    "        \n",
    "    #Diagonal Lines   \n",
    "    if game_board[3] == 'O' and game_board[5] == 'O' and game_board[7] == 'O':\n",
    "        return True\n",
    " \n",
    "    if game_board[1] == 'O' and game_board[5] == 'O' and game_board[9] == 'O':\n",
    "        return True\n",
    "        \n",
    "    else:\n",
    "        return False"
   ]
  },
  {
   "cell_type": "code",
   "execution_count": 13,
   "metadata": {},
   "outputs": [],
   "source": [
    "def game_turnsx():\n",
    "    counter = 0\n",
    "    for i in display1:\n",
    "        if i == \"X\":\n",
    "            counter += 1\n",
    "        else:\n",
    "            pass\n",
    "    return counter"
   ]
  },
  {
   "cell_type": "code",
   "execution_count": 14,
   "metadata": {},
   "outputs": [],
   "source": [
    "def game_turnso():\n",
    "    counter = 0\n",
    "    for i in display1:\n",
    "        if i == \"O\":\n",
    "            counter += 1\n",
    "        else:\n",
    "            pass\n",
    "    return counter"
   ]
  },
  {
   "cell_type": "code",
   "execution_count": 15,
   "metadata": {},
   "outputs": [],
   "source": [
    "def max_turns(turno,turnx):\n",
    "    if (turno+turnx) >= 9:\n",
    "        print('No more moves left....It is a tie!!')\n",
    "    else:\n",
    "        pass"
   ]
  },
  {
   "cell_type": "code",
   "execution_count": 16,
   "metadata": {},
   "outputs": [],
   "source": [
    "def play_again(check_x,check_o,game_board):\n",
    "    replay = 'wrong'\n",
    "    while replay not in ['Y','N']:\n",
    "        replay = input('Play again? Select Y/N')\n",
    "        \n",
    "    if replay not in ['Y','N']:\n",
    "        replay = input('Invalid answer (Y/N)')\n",
    "        \n",
    "    if replay in ['Y']:\n",
    "        check_x = False\n",
    "        check_o = False\n",
    "        game_board = ['#','1','2','3','4','5','6','7','8','9']\n",
    "\n",
    "    else:\n",
    "        replay = 'no'\n",
    "    \n",
    "    return replay\n",
    "    "
   ]
  },
  {
   "cell_type": "code",
   "execution_count": null,
   "metadata": {},
   "outputs": [],
   "source": []
  },
  {
   "cell_type": "code",
   "execution_count": null,
   "metadata": {},
   "outputs": [],
   "source": []
  },
  {
   "cell_type": "code",
   "execution_count": 17,
   "metadata": {},
   "outputs": [
    {
     "name": "stdout",
     "output_type": "stream",
     "text": [
      "Welcome to Tic-Tac-Toe!!\n",
      "Player 1 please select your marker, X or O X\n",
      "Player 2 your marker is O\n",
      "This is your game board.\n",
      "['1', '2', '3']\n",
      "['4', '5', '6']\n",
      "['7', '8', '9']\n",
      "\n",
      "\n",
      "Player 1,please select a number in the grid (1-9)\n",
      "5\n",
      "['1', '2', '3']\n",
      "['4', 'X', '6']\n",
      "['7', '8', '9']\n",
      "\n",
      " Player 2,please select a number in the grid (1-9)4\n",
      "['1', '2', '3']\n",
      "['O', 'X', '6']\n",
      "['7', '8', '9']\n",
      "Player 1,please select a number in the grid (1-9)\n",
      "3\n",
      "['1', '2', 'X']\n",
      "['O', 'X', '6']\n",
      "['7', '8', '9']\n",
      "\n",
      " Player 2,please select a number in the grid (1-9)2\n",
      "['1', 'O', 'X']\n",
      "['O', 'X', '6']\n",
      "['7', '8', '9']\n",
      "Player 1,please select a number in the grid (1-9)\n",
      "1\n",
      "['X', 'O', 'X']\n",
      "['O', 'X', '6']\n",
      "['7', '8', '9']\n",
      "\n",
      " Player 2,please select a number in the grid (1-9)6\n",
      "['X', 'O', 'X']\n",
      "['O', 'X', 'O']\n",
      "['7', '8', '9']\n",
      "Player 1,please select a number in the grid (1-9)\n",
      "7\n",
      "['X', 'O', 'X']\n",
      "['O', 'X', 'O']\n",
      "['X', '8', '9']\n",
      "Game Over!\n",
      "Player 1 Wins!!\n",
      "Play again? Select Y/NY\n"
     ]
    }
   ],
   "source": [
    "    player_1 = start_player1()\n",
    "    player_2 = start_player2()\n",
    "    display = display_board()\n",
    "    front_end = open_display()\n",
    "    resume_loop = 'yes'\n",
    "\n",
    "    check_x = game_checkX(game_board)\n",
    "    check_o = game_checkO(game_board)\n",
    "\n",
    "    select_1 = 'none'\n",
    "    select_2 = 'none'\n",
    "\n",
    "    turnx= 0\n",
    "    turno = 0\n",
    "\n",
    "    check_turns = max_turns(turno,turnx)\n",
    "\n",
    "    replay = 'Y'\n",
    "\n",
    "    while (check_x == False and check_o == False and replay == 'Y'):\n",
    "        select_1 = player1_select()\n",
    "        #Duplicate test player 1\n",
    "        while select_1 == select_2:\n",
    "            select_1 = player1_select()\n",
    "        else:\n",
    "            pass\n",
    "        #Display update player 1\n",
    "        display1 = update_display1(game_board)\n",
    "        #Count and Max turns player 1\n",
    "        turnx = game_turnsx()\n",
    "        check_turns = max_turns(turno,turnx)\n",
    "        check_x = game_checkX(game_board)\n",
    "        check_o = game_checkO(game_board)\n",
    "\n",
    "        if check_x ==True or check_o == True:\n",
    "            resume_loop = 'no'\n",
    "            print('Game Over!')\n",
    "        \n",
    "\n",
    "        else:  \n",
    "            select_2 = player2_select() \n",
    "            #Duplicate test player 2\n",
    "            while select_2 == select_1:\n",
    "                select_2 = player2_select()\n",
    "            else:\n",
    "                pass\n",
    "            #Display update player 2\n",
    "            display2 = update_display2(game_board)\n",
    "            #Count and Max turns player 2\n",
    "            turno = game_turnso()\n",
    "            check_turns = max_turns(turno,turnx)\n",
    "            check_x = game_checkX(game_board)\n",
    "            check_o = game_checkO(game_board)\n",
    "\n",
    "        if (check_x ==True or check_o == True) and resume_loop == 'no':\n",
    "                    print('Player 1 Wins!!')\n",
    "                    replay = play_again(check_x,check_o,game_board)\n",
    "                                    \n",
    "\n",
    "        elif check_x ==True or check_o == True:\n",
    "            print('Game Over')\n",
    "            print('Player 2 Wins!!')\n",
    "            replay = play_again(check_x,check_o,game_board)\n",
    "        "
   ]
  },
  {
   "cell_type": "code",
   "execution_count": 18,
   "metadata": {},
   "outputs": [
    {
     "data": {
      "text/plain": [
       "'Y'"
      ]
     },
     "execution_count": 18,
     "metadata": {},
     "output_type": "execute_result"
    }
   ],
   "source": [
    "replay"
   ]
  },
  {
   "cell_type": "code",
   "execution_count": 19,
   "metadata": {},
   "outputs": [
    {
     "data": {
      "text/plain": [
       "['#', 'X', 'O', 'X', 'O', 'X', 'O', 'X', '8', '9']"
      ]
     },
     "execution_count": 19,
     "metadata": {},
     "output_type": "execute_result"
    }
   ],
   "source": [
    "game_board"
   ]
  },
  {
   "cell_type": "code",
   "execution_count": 20,
   "metadata": {},
   "outputs": [
    {
     "data": {
      "text/plain": [
       "True"
      ]
     },
     "execution_count": 20,
     "metadata": {},
     "output_type": "execute_result"
    }
   ],
   "source": [
    "check_x"
   ]
  },
  {
   "cell_type": "code",
   "execution_count": null,
   "metadata": {},
   "outputs": [],
   "source": [
    "\n",
    "    "
   ]
  },
  {
   "cell_type": "markdown",
   "metadata": {},
   "source": [
    "#### "
   ]
  }
 ],
 "metadata": {
  "kernelspec": {
   "display_name": "Python 3",
   "language": "python",
   "name": "python3"
  },
  "language_info": {
   "codemirror_mode": {
    "name": "ipython",
    "version": 3
   },
   "file_extension": ".py",
   "mimetype": "text/x-python",
   "name": "python",
   "nbconvert_exporter": "python",
   "pygments_lexer": "ipython3",
   "version": "3.8.5"
  }
 },
 "nbformat": 4,
 "nbformat_minor": 4
}
